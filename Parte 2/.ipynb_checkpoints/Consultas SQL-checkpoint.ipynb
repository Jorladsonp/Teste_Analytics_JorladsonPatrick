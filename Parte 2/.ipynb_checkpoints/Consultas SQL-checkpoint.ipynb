{
 "cells": [
  {
   "cell_type": "markdown",
   "id": "e3bfcbcd-68ef-42bc-a5ec-3704741c9834",
   "metadata": {},
   "source": [
    "# Consultas SQL e Visualização de Dados"
   ]
  },
  {
   "cell_type": "markdown",
   "id": "8848734f-386d-4e93-bef2-8f8c4be3d518",
   "metadata": {},
   "source": [
    "## Descrição"
   ]
  },
  {
   "cell_type": "markdown",
   "id": "77c0cce9-8cb8-4ff0-b8b6-2e2a3cab400e",
   "metadata": {},
   "source": [
    "Esse notebook tem como objetivo escrever **consultas SQL** para:\n",
    "\n",
    "- Listar o nome do produto, categoria e a soma total de vendas (Quantidade * Preço) para cada produto mostrando de forma ordenada por ordem decrescente\n",
    "- Identificar os produtos que venderam menos no mês de junho de 2023 (foi pedido 2024, porém as instruções passadas para a criação do dataset foi com o periodo de dadas de 01/01/2023 a 31/12/2023)\n",
    "- Irá ser utilizado o arquivo **data_clean.csv**\n",
    "- Será testado e validado as consultas diretamente em um banco de dados SQLite neste notebook\n",
    "- Existe um arquivo conforme solicitado chamado **consultas_sql.sql** na Pasta 2 com as Querys criadas e sua explicação lógica, o conteúdo deste arquivo é o mesmo usado neste notebook\n",
    "\n",
    "---\n",
    "\n",
    "### Estrutura\n",
    "\n",
    "1. **Importando as bibliotecas:** Importação de bibliotecas utilizadas\n",
    "2. **Carregar os dados para um banco de dados SQLite:** Instruções de como carregar o csv em um banco de dados temporario em memoria Ram\n",
    "3. **Testando consultas:** Dividido em `Consulta 1` e `Consulta 2`\n",
    "4. **Consulta 1:** Execução da query e sua saída\n",
    "5. **Consulta 2:** Execução da query e sua saída\n",
    "6. **Explicação lógica:** Dividido em `Consulta 1`, `Consulta 2` e `Observação`\n",
    "7. **Consulta 1:** Explicação da query\n",
    "8. **Consulta 2:** Explicação da query\n",
    "9. **Observação:** Um lembrete sobre sintaxe"
   ]
  },
  {
   "cell_type": "markdown",
   "id": "7011791d-21b8-452f-8c49-18fd88f9772a",
   "metadata": {},
   "source": [
    "## Importando as bibliotecas"
   ]
  },
  {
   "cell_type": "code",
   "execution_count": 23,
   "id": "64a8b4ac-88c3-4bf4-b0bc-fa70f1471940",
   "metadata": {},
   "outputs": [],
   "source": [
    "import sqlite3\n",
    "import pandas as pd\n",
    "import os"
   ]
  },
  {
   "cell_type": "markdown",
   "id": "f910b1ca-7b95-4ccd-bea9-8b4e5300eb33",
   "metadata": {},
   "source": [
    "## Carregar os dados para um banco de dados SQLite"
   ]
  },
  {
   "cell_type": "code",
   "execution_count": 76,
   "id": "b8a82bb8-accf-454d-a7da-e1a7a6d1e7b4",
   "metadata": {},
   "outputs": [
    {
     "name": "stdout",
     "output_type": "stream",
     "text": [
      "C:\\Users\\leona\\Data Science\\Teste Quod\\Teste_Analytics_JorladsonPatrick\\Parte 2\\data_clean.csv\n"
     ]
    }
   ],
   "source": [
    "#Obter o caminho absoluto para evitar erros de path\n",
    "file_path = os.path.abspath(\"data_clean.csv\")\n",
    "print(file_path)"
   ]
  },
  {
   "cell_type": "code",
   "execution_count": 78,
   "id": "f52777a5-4a29-4b70-8d65-017cc1f65c15",
   "metadata": {},
   "outputs": [
    {
     "data": {
      "text/html": [
       "<div>\n",
       "<style scoped>\n",
       "    .dataframe tbody tr th:only-of-type {\n",
       "        vertical-align: middle;\n",
       "    }\n",
       "\n",
       "    .dataframe tbody tr th {\n",
       "        vertical-align: top;\n",
       "    }\n",
       "\n",
       "    .dataframe thead th {\n",
       "        text-align: right;\n",
       "    }\n",
       "</style>\n",
       "<table border=\"1\" class=\"dataframe\">\n",
       "  <thead>\n",
       "    <tr style=\"text-align: right;\">\n",
       "      <th></th>\n",
       "      <th>ID</th>\n",
       "      <th>Data</th>\n",
       "      <th>Categoria</th>\n",
       "      <th>Produto</th>\n",
       "      <th>Quantidade</th>\n",
       "      <th>Preço</th>\n",
       "    </tr>\n",
       "  </thead>\n",
       "  <tbody>\n",
       "    <tr>\n",
       "      <th>0</th>\n",
       "      <td>1</td>\n",
       "      <td>2023-01-01</td>\n",
       "      <td>Alimentos</td>\n",
       "      <td>Fruta</td>\n",
       "      <td>16</td>\n",
       "      <td>29.45</td>\n",
       "    </tr>\n",
       "    <tr>\n",
       "      <th>1</th>\n",
       "      <td>2</td>\n",
       "      <td>2023-01-02</td>\n",
       "      <td>Roupas</td>\n",
       "      <td>Cachecol</td>\n",
       "      <td>13</td>\n",
       "      <td>170.02</td>\n",
       "    </tr>\n",
       "    <tr>\n",
       "      <th>2</th>\n",
       "      <td>3</td>\n",
       "      <td>2023-01-04</td>\n",
       "      <td>Roupas</td>\n",
       "      <td>Vestido</td>\n",
       "      <td>3</td>\n",
       "      <td>110.22</td>\n",
       "    </tr>\n",
       "    <tr>\n",
       "      <th>3</th>\n",
       "      <td>4</td>\n",
       "      <td>2023-01-06</td>\n",
       "      <td>Alimentos</td>\n",
       "      <td>Chocolate</td>\n",
       "      <td>8</td>\n",
       "      <td>5.95</td>\n",
       "    </tr>\n",
       "    <tr>\n",
       "      <th>4</th>\n",
       "      <td>5</td>\n",
       "      <td>2023-01-08</td>\n",
       "      <td>Eletrônicos</td>\n",
       "      <td>Smart TV</td>\n",
       "      <td>4</td>\n",
       "      <td>234.18</td>\n",
       "    </tr>\n",
       "  </tbody>\n",
       "</table>\n",
       "</div>"
      ],
      "text/plain": [
       "   ID        Data    Categoria    Produto  Quantidade   Preço\n",
       "0   1  2023-01-01    Alimentos      Fruta          16   29.45\n",
       "1   2  2023-01-02       Roupas   Cachecol          13  170.02\n",
       "2   3  2023-01-04       Roupas    Vestido           3  110.22\n",
       "3   4  2023-01-06    Alimentos  Chocolate           8    5.95\n",
       "4   5  2023-01-08  Eletrônicos   Smart TV           4  234.18"
      ]
     },
     "execution_count": 78,
     "metadata": {},
     "output_type": "execute_result"
    }
   ],
   "source": [
    "#caminho do csv (aqui... resumindo o python interpreta \"/\" então ou vc usa um \"r\" para transofrmar em \"raw string\" para interpretar as barras como caracteres normais ou usa \"\\\\\" escolhi o r por ser mais preguiçoso e pq ta funcionando)\n",
    "file_path = os.path.abspath(r\"C:\\Users\\leona\\Data Science\\Teste Quod\\Teste_Analytics_JorladsonPatrick\\Parte 1\\data_clean.csv\")\n",
    "\n",
    "#leitura do dataset\n",
    "df = pd.read_csv(file_path)\n",
    "df.head()"
   ]
  },
  {
   "cell_type": "code",
   "execution_count": 154,
   "id": "ce4f530b-9ed3-44d3-a889-61673863638e",
   "metadata": {},
   "outputs": [
    {
     "name": "stdout",
     "output_type": "stream",
     "text": [
      "Banco de dados SQLite criado com sucesso!\n"
     ]
    }
   ],
   "source": [
    "#Conectar ao banco de dados SQLite na memória)\n",
    "conn = sqlite3.connect(\":memory:\")\n",
    "\n",
    "#Carregar o DataFrame para o banco SQLite\n",
    "df.to_sql(\"data_clean\", conn, index=False, if_exists=\"replace\")\n",
    "print(\"Banco de dados SQLite criado com sucesso!\")"
   ]
  },
  {
   "cell_type": "markdown",
   "id": "9f524068-7a18-415e-b79a-a380934d84b2",
   "metadata": {},
   "source": [
    "## Testando as consultas"
   ]
  },
  {
   "cell_type": "markdown",
   "id": "aea58bce-0202-4385-93c6-da7d5f400f39",
   "metadata": {},
   "source": [
    "### Consulta 1: Listar o nome do produto, categoria e a soma total de vendas (Quantidade * Preço) para cada produto mostrando de forma ordenada por ordem decrescente"
   ]
  },
  {
   "cell_type": "code",
   "execution_count": 128,
   "id": "a03c0d8b-2720-489e-af95-45b6f2066cbe",
   "metadata": {},
   "outputs": [
    {
     "name": "stdout",
     "output_type": "stream",
     "text": [
      "           Produto    Categoria  Total_de_Vendas\n",
      "0          Teclado  Eletrônicos         50098.87\n",
      "1   Fone de ouvido  Eletrônicos         28743.80\n",
      "2         Smart TV  Eletrônicos         25270.40\n",
      "3            Mouse  Eletrônicos         22188.15\n",
      "4          Celular  Eletrônicos         17910.37\n",
      "5            Luvas       Roupas         16488.44\n",
      "6       Carregador  Eletrônicos         16396.59\n",
      "7        Microfone  Eletrônicos         14269.56\n",
      "8          Vestido       Roupas         11235.33\n",
      "9         Cachecol       Roupas          8417.90\n",
      "10           Tênis       Roupas          7760.36\n",
      "11           Meias       Roupas          6627.04\n",
      "12         Monitor  Eletrônicos          5828.30\n",
      "13           Calça       Roupas          5631.97\n",
      "14          Camisa       Roupas          4904.21\n",
      "15         Bermuda       Roupas          3875.65\n",
      "16           Fruta    Alimentos          3283.93\n",
      "17          Feijão    Alimentos          2470.12\n",
      "18           Arroz    Alimentos          2406.54\n",
      "19            Café    Alimentos          2158.91\n",
      "20          Farofa    Alimentos          1941.39\n",
      "21         Legumes    Alimentos          1797.03\n",
      "22           Cinto       Roupas          1694.84\n",
      "23          Queijo    Alimentos           982.13\n",
      "24           Leite    Alimentos           908.18\n",
      "25             Pão    Alimentos           817.45\n",
      "26       Chocolate    Alimentos           760.98\n",
      "27          Casaco       Roupas           194.14\n"
     ]
    }
   ],
   "source": [
    "query1 = \"\"\"\n",
    "SELECT \n",
    "    Categoria,\n",
    "    Produto,\n",
    "    SUM (Quantidade * Preço) AS Total_de_Vendas\n",
    "FROM \n",
    "    data_clean\n",
    "GROUP BY \n",
    "    Produto\n",
    "ORDER BY \n",
    "    Total_de_Vendas DESC;\n",
    "\"\"\"\n",
    "\n",
    "#Executa a consulta\n",
    "resultado1 = pd.read_sql_query(query1, conn)\n",
    "print(result1)"
   ]
  },
  {
   "cell_type": "markdown",
   "id": "7c7f019f-e08c-4d1f-853a-5d2cdede0ca4",
   "metadata": {},
   "source": [
    "### Consulta 2: Identificar os produtos que venderam menos no mês de junho de 2023"
   ]
  },
  {
   "cell_type": "code",
   "execution_count": 122,
   "id": "ad08635a-4692-48a4-a409-7613a5b3270b",
   "metadata": {},
   "outputs": [
    {
     "name": "stdout",
     "output_type": "stream",
     "text": [
      "      Categoria         Produto  Total_de_Quantidade\n",
      "0        Roupas          Casaco                    1\n",
      "1     Alimentos          Queijo                    1\n",
      "2        Roupas           Tênis                    8\n",
      "3     Alimentos            Café                   12\n",
      "4     Alimentos          Farofa                   12\n",
      "5   Eletrônicos  Fone de ouvido                   12\n",
      "6     Alimentos             Pão                   12\n",
      "7   Eletrônicos        Smart TV                   13\n",
      "8   Eletrônicos         Teclado                   13\n",
      "9        Roupas         Bermuda                   17\n",
      "10       Roupas           Meias                   17\n",
      "11    Alimentos           Arroz                   18\n",
      "12    Alimentos           Fruta                   18\n"
     ]
    }
   ],
   "source": [
    "query2 = \"\"\"\n",
    "SELECT \n",
    "    Categoria,\n",
    "    Produto,\n",
    "    SUM (Quantidade) AS Total_de_Quantidade\n",
    "FROM \n",
    "    data_clean\n",
    "WHERE \n",
    "    strftime ('%Y-%m', Data) = '2023-06'\n",
    "GROUP BY \n",
    "    Produto\n",
    "ORDER BY \n",
    "    Total_de_Quantidade ASC;\n",
    "\"\"\"\n",
    "\n",
    "resultado2 = pd.read_sql_query(query2, conn)\n",
    "print(resultado2)"
   ]
  },
  {
   "cell_type": "markdown",
   "id": "c6519c68-f15a-4f86-a8e0-e1b0bd83b8c0",
   "metadata": {},
   "source": [
    "## Explicação lógica"
   ]
  },
  {
   "cell_type": "markdown",
   "id": "caeafd07-220d-4680-b2f6-dc6730f29a44",
   "metadata": {},
   "source": [
    "### Consulta 1"
   ]
  },
  {
   "cell_type": "markdown",
   "id": "0ef8e3b1-e0ca-4cb2-b4c1-a4a3cef9d077",
   "metadata": {},
   "source": [
    "- O objetivo é: Calcular o total de vendas para cada produto, classificar e ordenar\n",
    "- Utilizei o SELECT em Categoria, Produto pois eles precisam ser listados e criei uma coluna ao lado chamado Total_de_Vendas que é o resultado da multiplicação de Quantidade x Preço, assim cada linha vai representar o valor total de vendas por cada produto \n",
    "- o FROM é para pegar a tabela criada\n",
    "- Agrupo as linhas por produto, como produto tem mais \"variaveis\" que categoria, é o suficiente para poder combinar as linhas do mesmo produto e os valores dentro da sua categoria\n",
    "- Ordeno como pedido o total_de_Vendas de forma decrescente, para mostrar os maiores valores em cima da tabela"
   ]
  },
  {
   "cell_type": "markdown",
   "id": "6168d07f-702b-46ac-8bf0-0d345703a31c",
   "metadata": {},
   "source": [
    "### Consulta 2"
   ]
  },
  {
   "cell_type": "markdown",
   "id": "e975d8a6-7067-4ba0-bb54-c1f8ee3b33d5",
   "metadata": {},
   "source": [
    "- O objetivo é: Identificar os produtos que venderam menos em uma determinada data\n",
    "- Uso o SELECT em Categoria, Produto e crio uma outra coluna chamada Total_de_Quantidade que é a soma de todas as quantidades vendidas para cada produto dentro de sua categoria\n",
    "- O From é para pegar a tabela criada\n",
    "- Uso o WHERE para filtar os registros dentro da data que foi solicitada, para filtar apenas os registros realizadas no mes de junho de 2023\n",
    "- Agrupo as linhas por produto pois, produto tem mais \"variaveis\" que \"categoria\", segue a mesma logica da consulta 1, terei combinado as linhas do mesmo produto e a quantidade dentro de sua categoria\n",
    "- Ordeno de forma Crescente para mostrar os menores valores por cima na tabela "
   ]
  },
  {
   "cell_type": "markdown",
   "id": "d9ef88ef-56c9-4ec8-ac2e-8d54d42b68f8",
   "metadata": {},
   "source": [
    "### Observação"
   ]
  },
  {
   "cell_type": "markdown",
   "id": "ff8cfa59-2f27-4907-9863-07e2b1fd7d1a",
   "metadata": {},
   "source": [
    "- Em Group by, nao faz diferença pro codigo colocar \"Categoria, Produto\" mas dizem que no PostgreSQL tem q ser assim, fica ai de aviso"
   ]
  }
 ],
 "metadata": {
  "kernelspec": {
   "display_name": "Python 3 (ipykernel)",
   "language": "python",
   "name": "python3"
  },
  "language_info": {
   "codemirror_mode": {
    "name": "ipython",
    "version": 3
   },
   "file_extension": ".py",
   "mimetype": "text/x-python",
   "name": "python",
   "nbconvert_exporter": "python",
   "pygments_lexer": "ipython3",
   "version": "3.11.7"
  }
 },
 "nbformat": 4,
 "nbformat_minor": 5
}
