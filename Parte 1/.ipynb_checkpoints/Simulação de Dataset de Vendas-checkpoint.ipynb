{
 "cells": [
  {
   "cell_type": "markdown",
   "id": "6a762789-a2b2-4e4f-b51b-29170d6dbc11",
   "metadata": {},
   "source": [
    "# Simulação de Dataset de Vendas"
   ]
  },
  {
   "cell_type": "markdown",
   "id": "39bf5273-7267-41b5-b636-6563f73f3d9f",
   "metadata": {},
   "source": [
    "## Descrição"
   ]
  },
  {
   "cell_type": "markdown",
   "id": "7825d015-1e5a-49ff-ad7e-e4e344922a58",
   "metadata": {
    "jp-MarkdownHeadingCollapsed": true
   },
   "source": [
    "Este notebook tem como objetivo criar um **dataset simulado de vendas** contendo pelo menos 50 registros (foi utilizado 200). Ele será utilizado para análises e manipulação de dados neste teste prático. O dataset gerado será salvo no formato CSV e conterá as seguintes colunas:\n",
    "\n",
    "- **ID**: Identificador\n",
    "- **Data**: Datas entre 01/01/2023 e 31/12/2023\n",
    "- **Produto**: Nome do produto vendido\n",
    "- **Categoria**: Categoria do produto\n",
    "- **Quantidade**: Quantidade de unidades vendidas \n",
    "- **Preço**: Preço unitário do produto\n",
    "\n",
    "O arquivo gerado será salvo como `data_clean.csv` na pasta `Parte 1` do repositório junto com este arquivo.\n",
    "\n",
    "A cada célula está comentado cada bloco de código para maior entendimento do passo a passo que foi tomado, no final terá também um resumo com algumas explicações adicionais sobre decisões que tomei durante o desenvolvimento desta parte.\n",
    "\n",
    "---\n",
    "\n",
    "### Estrutura do Notebook\n",
    "1. **Importação de Bibliotecas:** Carregamento das bibliotecas utilizadas\n",
    "2. **Definição de parâmetros:** Definição do seed, quantidade de registros, produto dentro de suas categoria e intervalos de preço pela categoria \n",
    "3. **Funções:** Criação de funções para facilitar na geração de Dataset\n",
    "4. **Geração do Dataset:** Geração dos dados que compoem o Dataset\n",
    "5. **Limpeza de dados:** Verificação e execução de alguns códigos para a limpeza dos dados e conversão de tipos\n",
    "6. **Salvar o Dataset:** Salvamento do dataset simulado em um arquivo CSV nomeado de: `data_clean.csv`\n",
    "7. **Visualização do Dataset:** Leitura do arquivo e confirmação dos valores\n",
    "8. **Análise:** é divido entre `Carregar o arquivo CSV`, `Cálculos`, `Total de vendas por produto` e `Produto com o maior número de vendas totais`\n",
    "9. **Carregar o arquivo CSV:** Carrego o arquivo CSV para a análise feita a seguir\n",
    "10. **Cálculo:** É feito os cálculos necessários solicitados\n",
    "11. **Total de vendas por produto:** Resultado da primeira análise proposta\n",
    "12. **Produto com o maior número de vendas totais:** Resultado da segunda análise proposta\n",
    "13. **Análise exploratoria:** É dividido entre: `Calculo e ajustes`,`Gráfico de tendência de vendas ao longo do tempo`, `Padrões e Insights`\n",
    "14. **Cálculo e ajustes:** Onde é realizado os calculos para a construção do gráfico\n",
    "15. **Gráfico de tendência de vendas ao longo do tempo:** A construção do grafico\n",
    "16. **Padrões e Insights:** Pontuo 5 padrões/insights que observei no gráfico gerado\n",
    "17. **Comentários:** Um resumo sobre a trajetoria desta atividade na parte 1"
   ]
  },
  {
   "cell_type": "markdown",
   "id": "a6f697e1-221a-4e13-abc6-b95363e57ff7",
   "metadata": {},
   "source": [
    "## Importação de Bibliotecas"
   ]
  },
  {
   "cell_type": "code",
   "execution_count": 57,
   "id": "832f00ae-e27a-45ea-9e58-008c9b2fc6f0",
   "metadata": {
    "scrolled": true
   },
   "outputs": [],
   "source": [
    "import pandas as pd\n",
    "import numpy as np\n",
    "import matplotlib.pyplot as plt\n",
    "import random"
   ]
  },
  {
   "cell_type": "markdown",
   "id": "c699859b-d991-445f-bd89-ab95814f77b5",
   "metadata": {},
   "source": [
    "## Definição de parâmetros"
   ]
  },
  {
   "cell_type": "code",
   "execution_count": 6,
   "id": "402b641f-3796-44fe-9d2a-150755227e10",
   "metadata": {},
   "outputs": [],
   "source": [
    "#escolha do seed na random\n",
    "np.random.seed(26)\n",
    "\n",
    "#numero de registros\n",
    "n=200\n",
    "\n",
    "#produtos de cada categoria\n",
    "categorias_produtos = {\n",
    "    \"Eletrônicos\": [\"Teclado\", \"Mouse\", \"Fone de ouvido\", \"Smart TV\", \"Microfone\", \n",
    "                    \"Carregador\", \"Celular\", \"Monitor\", \"Teclado\", \"Mouse\"],\n",
    "    \"Roupas\": [\"Camisa\", \"Calça\", \"Bermuda\", \"Tênis\", \"Vestido\",\n",
    "               \"Meias\", \"Luvas\", \"Casaco\", \"Cinto\", \"Cachecol\"],\n",
    "    \"Alimentos\": [\"Arroz\", \"Feijão\", \"Farofa\", \"Chocolate\",\"Café\", \n",
    "                  \"Leite\", \"Queijo\", \"Pão\", \"Fruta\", \"Legumes\"]\n",
    "}\n",
    "\n",
    "parametros_preco = {\n",
    "    \"Eletrônicos\": {\"min\": 100, \"max\": 500},  # Preços de 100 a 500\n",
    "    \"Roupas\": {\"min\": 20, \"max\": 200},        # Preços de 20 a 200\n",
    "    \"Alimentos\": {\"min\": 5, \"max\": 50},       # Preços de 5 a 50\n",
    "}"
   ]
  },
  {
   "cell_type": "markdown",
   "id": "4308b536-51f7-46f1-88b0-e05f2089a3f6",
   "metadata": {},
   "source": [
    "## Funções"
   ]
  },
  {
   "cell_type": "code",
   "execution_count": 9,
   "id": "3cff0fd3-36b5-4d67-aada-07faaadd6477",
   "metadata": {},
   "outputs": [],
   "source": [
    "# Função para escolher produtos com base na categoria\n",
    "def escolher_produto(categoria):\n",
    "    return random.choice(categorias_produtos[categoria])\n",
    "\n",
    "# Função para gerar preço com base na categoria\n",
    "def gerar_preco(categoria):\n",
    "    intervalo = parametros_preco[categoria]  # Consulta os limites para a categoria\n",
    "    return round(random.uniform(intervalo[\"min\"], intervalo[\"max\"]), 2)  # Gera o preço"
   ]
  },
  {
   "cell_type": "markdown",
   "id": "5326b739-6878-4235-8459-53c73bf1a4dd",
   "metadata": {},
   "source": [
    "## Geração do Dataset"
   ]
  },
  {
   "cell_type": "code",
   "execution_count": 14,
   "id": "1df70ce3-5936-4f55-8774-98dbe4c935a5",
   "metadata": {
    "scrolled": true
   },
   "outputs": [
    {
     "data": {
      "text/html": [
       "<div>\n",
       "<style scoped>\n",
       "    .dataframe tbody tr th:only-of-type {\n",
       "        vertical-align: middle;\n",
       "    }\n",
       "\n",
       "    .dataframe tbody tr th {\n",
       "        vertical-align: top;\n",
       "    }\n",
       "\n",
       "    .dataframe thead th {\n",
       "        text-align: right;\n",
       "    }\n",
       "</style>\n",
       "<table border=\"1\" class=\"dataframe\">\n",
       "  <thead>\n",
       "    <tr style=\"text-align: right;\">\n",
       "      <th></th>\n",
       "      <th>ID</th>\n",
       "      <th>Data</th>\n",
       "      <th>Categoria</th>\n",
       "      <th>Produto</th>\n",
       "      <th>Quantidade</th>\n",
       "      <th>Preço</th>\n",
       "    </tr>\n",
       "  </thead>\n",
       "  <tbody>\n",
       "    <tr>\n",
       "      <th>0</th>\n",
       "      <td>1</td>\n",
       "      <td>2023-01-01</td>\n",
       "      <td>Alimentos</td>\n",
       "      <td>Fruta</td>\n",
       "      <td>16</td>\n",
       "      <td>29.45</td>\n",
       "    </tr>\n",
       "    <tr>\n",
       "      <th>1</th>\n",
       "      <td>2</td>\n",
       "      <td>2023-01-02</td>\n",
       "      <td>Roupas</td>\n",
       "      <td>Cachecol</td>\n",
       "      <td>13</td>\n",
       "      <td>170.02</td>\n",
       "    </tr>\n",
       "    <tr>\n",
       "      <th>2</th>\n",
       "      <td>3</td>\n",
       "      <td>2023-01-04</td>\n",
       "      <td>Roupas</td>\n",
       "      <td>Vestido</td>\n",
       "      <td>3</td>\n",
       "      <td>110.22</td>\n",
       "    </tr>\n",
       "    <tr>\n",
       "      <th>3</th>\n",
       "      <td>4</td>\n",
       "      <td>2023-01-06</td>\n",
       "      <td>Alimentos</td>\n",
       "      <td>Chocolate</td>\n",
       "      <td>8</td>\n",
       "      <td>5.95</td>\n",
       "    </tr>\n",
       "    <tr>\n",
       "      <th>4</th>\n",
       "      <td>5</td>\n",
       "      <td>2023-01-08</td>\n",
       "      <td>Eletrônicos</td>\n",
       "      <td>Smart TV</td>\n",
       "      <td>4</td>\n",
       "      <td>234.18</td>\n",
       "    </tr>\n",
       "    <tr>\n",
       "      <th>...</th>\n",
       "      <td>...</td>\n",
       "      <td>...</td>\n",
       "      <td>...</td>\n",
       "      <td>...</td>\n",
       "      <td>...</td>\n",
       "      <td>...</td>\n",
       "    </tr>\n",
       "    <tr>\n",
       "      <th>195</th>\n",
       "      <td>196</td>\n",
       "      <td>2023-12-23</td>\n",
       "      <td>Roupas</td>\n",
       "      <td>Vestido</td>\n",
       "      <td>15</td>\n",
       "      <td>143.48</td>\n",
       "    </tr>\n",
       "    <tr>\n",
       "      <th>196</th>\n",
       "      <td>197</td>\n",
       "      <td>2023-12-25</td>\n",
       "      <td>Eletrônicos</td>\n",
       "      <td>Fone de ouvido</td>\n",
       "      <td>8</td>\n",
       "      <td>393.21</td>\n",
       "    </tr>\n",
       "    <tr>\n",
       "      <th>197</th>\n",
       "      <td>198</td>\n",
       "      <td>2023-12-27</td>\n",
       "      <td>Alimentos</td>\n",
       "      <td>Café</td>\n",
       "      <td>6</td>\n",
       "      <td>25.24</td>\n",
       "    </tr>\n",
       "    <tr>\n",
       "      <th>198</th>\n",
       "      <td>199</td>\n",
       "      <td>2023-12-29</td>\n",
       "      <td>Eletrônicos</td>\n",
       "      <td>Celular</td>\n",
       "      <td>10</td>\n",
       "      <td>226.15</td>\n",
       "    </tr>\n",
       "    <tr>\n",
       "      <th>199</th>\n",
       "      <td>200</td>\n",
       "      <td>2023-12-31</td>\n",
       "      <td>Alimentos</td>\n",
       "      <td>Farofa</td>\n",
       "      <td>11</td>\n",
       "      <td>20.07</td>\n",
       "    </tr>\n",
       "  </tbody>\n",
       "</table>\n",
       "<p>200 rows × 6 columns</p>\n",
       "</div>"
      ],
      "text/plain": [
       "      ID        Data    Categoria         Produto  Quantidade   Preço\n",
       "0      1  2023-01-01    Alimentos           Fruta          16   29.45\n",
       "1      2  2023-01-02       Roupas        Cachecol          13  170.02\n",
       "2      3  2023-01-04       Roupas         Vestido           3  110.22\n",
       "3      4  2023-01-06    Alimentos       Chocolate           8    5.95\n",
       "4      5  2023-01-08  Eletrônicos        Smart TV           4  234.18\n",
       "..   ...         ...          ...             ...         ...     ...\n",
       "195  196  2023-12-23       Roupas         Vestido          15  143.48\n",
       "196  197  2023-12-25  Eletrônicos  Fone de ouvido           8  393.21\n",
       "197  198  2023-12-27    Alimentos            Café           6   25.24\n",
       "198  199  2023-12-29  Eletrônicos         Celular          10  226.15\n",
       "199  200  2023-12-31    Alimentos          Farofa          11   20.07\n",
       "\n",
       "[200 rows x 6 columns]"
      ]
     },
     "execution_count": 14,
     "metadata": {},
     "output_type": "execute_result"
    }
   ],
   "source": [
    "#Gerando dados (Id, Data e Categoria)\n",
    "data = {\n",
    "    \"ID\": range (1, n+1), # Ids\n",
    "    \"Data\": pd.date_range(start=\"2023-01-01\", end=\"2023-12-31\", periods=n), # datas\n",
    "    \"Categoria\": random.choices([\"Eletrônicos\", \"Roupas\", \"Alimentos\"], k=n), # sorteia entre as 3 categorias\n",
    "}\n",
    "\n",
    "#Coloca os produtos relacionados a categoria\n",
    "data[\"Produto\"] = [escolher_produto(cat) for cat in data[\"Categoria\"]] #\n",
    "\n",
    "#Adicionando quantidade aleatorias entre 1 a 20\n",
    "data[\"Quantidade\"] = np.random.randint(1, 20, size=n)\n",
    "\n",
    "#Adicionado preços aleatórios com base na categoria\n",
    "data[\"Preço\"] = [gerar_preco(cat) for cat in data[\"Categoria\"]]\n",
    "\n",
    "#Criando o Dataframe\n",
    "df = pd.DataFrame(data)\n",
    "\n",
    "#ajuste de horas para remover horas, minutos e segundos\n",
    "df[\"Data\"] = df[\"Data\"].dt.strftime(\"%Y-%m-%d\")\n",
    "\n",
    "#Visualização dos dados\n",
    "df.head(200)"
   ]
  },
  {
   "cell_type": "markdown",
   "id": "c6a44b07-5717-45d7-b2f7-ff48d696d13e",
   "metadata": {},
   "source": [
    "## Limpeza de dados"
   ]
  },
  {
   "cell_type": "code",
   "execution_count": 16,
   "id": "643f50a5-5805-4dbf-b801-8cdbbc2cc80c",
   "metadata": {},
   "outputs": [
    {
     "name": "stdout",
     "output_type": "stream",
     "text": [
      "ID              int64\n",
      "Data           object\n",
      "Categoria      object\n",
      "Produto        object\n",
      "Quantidade      int32\n",
      "Preço         float64\n",
      "dtype: object\n"
     ]
    }
   ],
   "source": [
    "#Verificação dos tipos de dados\n",
    "print(df.dtypes)"
   ]
  },
  {
   "cell_type": "code",
   "execution_count": 18,
   "id": "5f411c4a-74ae-492c-9185-af597a878932",
   "metadata": {},
   "outputs": [
    {
     "name": "stdout",
     "output_type": "stream",
     "text": [
      "Valores faltantes:\n",
      "ID            0\n",
      "Data          0\n",
      "Categoria     0\n",
      "Produto       0\n",
      "Quantidade    0\n",
      "Preço         0\n",
      "dtype: int64\n"
     ]
    }
   ],
   "source": [
    "# Identificação de valores faltantes\n",
    "print(\"Valores faltantes:\",)\n",
    "print(df.isnull().sum())"
   ]
  },
  {
   "cell_type": "code",
   "execution_count": 20,
   "id": "a53910c4-43d6-49ab-aeac-194b2e8167fd",
   "metadata": {
    "scrolled": true
   },
   "outputs": [
    {
     "name": "stdout",
     "output_type": "stream",
     "text": [
      "0      False\n",
      "1      False\n",
      "2      False\n",
      "3      False\n",
      "4      False\n",
      "       ...  \n",
      "195    False\n",
      "196    False\n",
      "197    False\n",
      "198    False\n",
      "199    False\n",
      "Length: 200, dtype: bool\n",
      "Número de duplicatas: 0\n"
     ]
    }
   ],
   "source": [
    "# Verificar quais linhas são duplicadas e o numero total\n",
    "duplicatas = df.duplicated()\n",
    "print(duplicatas)\n",
    "print(f\"Número de duplicatas: {duplicatas.sum()}\")"
   ]
  },
  {
   "cell_type": "code",
   "execution_count": 22,
   "id": "1f6cc16e-a5bf-4985-8f23-ba81d5b6b31f",
   "metadata": {},
   "outputs": [
    {
     "name": "stdout",
     "output_type": "stream",
     "text": [
      "Duplicatas existentes removidas\n"
     ]
    }
   ],
   "source": [
    "#remover duplicatas\n",
    "df.drop_duplicates(inplace=True)\n",
    "print(\"Duplicatas existentes removidas\")"
   ]
  },
  {
   "cell_type": "code",
   "execution_count": 24,
   "id": "5ad07246-33b9-4888-8dd0-398abe318373",
   "metadata": {},
   "outputs": [
    {
     "name": "stdout",
     "output_type": "stream",
     "text": [
      "object\n"
     ]
    }
   ],
   "source": [
    "#Confirmação do tipo de 'Data'\n",
    "print(df[\"Data\"].dtypes)"
   ]
  },
  {
   "cell_type": "code",
   "execution_count": 26,
   "id": "a4d67cc2-9b06-4aed-bd4e-8baa76141f91",
   "metadata": {},
   "outputs": [],
   "source": [
    "# Converter a coluna 'Data' para datetime64\n",
    "df[\"Data\"] = pd.to_datetime(df[\"Data\"])"
   ]
  },
  {
   "cell_type": "code",
   "execution_count": 28,
   "id": "ee9e960e-97e3-4a8b-8916-148d3a07c0e8",
   "metadata": {},
   "outputs": [
    {
     "name": "stdout",
     "output_type": "stream",
     "text": [
      "datetime64[ns]\n"
     ]
    }
   ],
   "source": [
    "#Confirmação do tipo de 'Data'\n",
    "print(df[\"Data\"].dtypes)"
   ]
  },
  {
   "cell_type": "code",
   "execution_count": 30,
   "id": "60ce3cbb-c3b6-4841-8df0-6dca60da2b98",
   "metadata": {},
   "outputs": [
    {
     "name": "stdout",
     "output_type": "stream",
     "text": [
      "      ID       Data    Categoria         Produto  Quantidade   Preço\n",
      "112  113 2023-07-24       Roupas           Tênis           9   69.03\n",
      "113  114 2023-07-26  Eletrônicos        Smart TV          12  405.30\n",
      "114  115 2023-07-28  Eletrônicos       Microfone          17  471.83\n",
      "115  116 2023-07-30    Alimentos       Chocolate          18    5.36\n",
      "116  117 2023-08-01    Alimentos             Pão          10    5.19\n",
      "..   ...        ...          ...             ...         ...     ...\n",
      "195  196 2023-12-23       Roupas         Vestido          15  143.48\n",
      "196  197 2023-12-25  Eletrônicos  Fone de ouvido           8  393.21\n",
      "197  198 2023-12-27    Alimentos            Café           6   25.24\n",
      "198  199 2023-12-29  Eletrônicos         Celular          10  226.15\n",
      "199  200 2023-12-31    Alimentos          Farofa          11   20.07\n",
      "\n",
      "[88 rows x 6 columns]\n"
     ]
    }
   ],
   "source": [
    "#Filtro de datas para confirmar o novo tipo\n",
    "df_filtrado = df[df[\"Data\"] > \"2023-07-23\"]\n",
    "print(df_filtrado)"
   ]
  },
  {
   "cell_type": "markdown",
   "id": "ce09a0f5-e0a0-47f1-96ff-07d23afc5db5",
   "metadata": {},
   "source": [
    "## Salvar o Dataset"
   ]
  },
  {
   "cell_type": "code",
   "execution_count": 33,
   "id": "7b0a3cd0-9f66-445f-a5fc-c4b027fd2520",
   "metadata": {
    "scrolled": true
   },
   "outputs": [],
   "source": [
    "# Salva o dataset\n",
    "df.to_csv(\"data_clean.csv\", index=False)"
   ]
  },
  {
   "cell_type": "markdown",
   "id": "551fd47a-e971-434f-bcbf-e7e6b337d5ad",
   "metadata": {},
   "source": [
    "## Visualização do Dataset"
   ]
  },
  {
   "cell_type": "code",
   "execution_count": 36,
   "id": "46937bb8-4332-431b-bb21-5dcfe420118f",
   "metadata": {
    "scrolled": true
   },
   "outputs": [
    {
     "name": "stdout",
     "output_type": "stream",
     "text": [
      "      ID        Data    Categoria         Produto  Quantidade   Preço\n",
      "0      1  2023-01-01    Alimentos           Fruta          16   29.45\n",
      "1      2  2023-01-02       Roupas        Cachecol          13  170.02\n",
      "2      3  2023-01-04       Roupas         Vestido           3  110.22\n",
      "3      4  2023-01-06    Alimentos       Chocolate           8    5.95\n",
      "4      5  2023-01-08  Eletrônicos        Smart TV           4  234.18\n",
      "..   ...         ...          ...             ...         ...     ...\n",
      "195  196  2023-12-23       Roupas         Vestido          15  143.48\n",
      "196  197  2023-12-25  Eletrônicos  Fone de ouvido           8  393.21\n",
      "197  198  2023-12-27    Alimentos            Café           6   25.24\n",
      "198  199  2023-12-29  Eletrônicos         Celular          10  226.15\n",
      "199  200  2023-12-31    Alimentos          Farofa          11   20.07\n",
      "\n",
      "[200 rows x 6 columns]\n"
     ]
    }
   ],
   "source": [
    "#Abre o Dataset\n",
    "df_salvo = pd.read_csv(\"data_clean.csv\")\n",
    "print(df_salvo)"
   ]
  },
  {
   "cell_type": "markdown",
   "id": "9d9e47ed-ac89-4c23-8af6-04c2a7477140",
   "metadata": {},
   "source": [
    "## Analise"
   ]
  },
  {
   "cell_type": "markdown",
   "id": "21aee0ab-27b2-4823-84a2-a0d49d0b5760",
   "metadata": {},
   "source": [
    "### Carregar o Arquivo CSV"
   ]
  },
  {
   "cell_type": "code",
   "execution_count": 40,
   "id": "dea182a5-d2b6-4375-b8e2-949c7ee49b8e",
   "metadata": {},
   "outputs": [
    {
     "name": "stdout",
     "output_type": "stream",
     "text": [
      "   ID        Data    Categoria    Produto  Quantidade   Preço\n",
      "0   1  2023-01-01    Alimentos      Fruta          16   29.45\n",
      "1   2  2023-01-02       Roupas   Cachecol          13  170.02\n",
      "2   3  2023-01-04       Roupas    Vestido           3  110.22\n",
      "3   4  2023-01-06    Alimentos  Chocolate           8    5.95\n",
      "4   5  2023-01-08  Eletrônicos   Smart TV           4  234.18\n"
     ]
    }
   ],
   "source": [
    "# Carregar o arquivo CSV\n",
    "df = pd.read_csv(\"data_clean.csv\")\n",
    "print(df.head())"
   ]
  },
  {
   "cell_type": "markdown",
   "id": "47ab3d7e-d230-4fb1-abe0-2432e8604111",
   "metadata": {},
   "source": [
    "### Cálculo"
   ]
  },
  {
   "cell_type": "code",
   "execution_count": 43,
   "id": "14431356-c7c2-472d-92d8-9559d90c1c40",
   "metadata": {},
   "outputs": [],
   "source": [
    "# Calculo do total de vendas (Quantidade * Preço) \n",
    "total_de_vendas = (df[\"Quantidade\"] * df[\"Preço\"])\n",
    "\n",
    "# Agrupar por produto e somar\n",
    "vendas_por_produto = total_de_vendas.groupby(df[\"Produto\"]).sum().reset_index()\n",
    "\n",
    "# Renomear colunas para poder utilizar sem erros e melhor visualização\n",
    "# (mais por causa da 2 coluna pois a primeira ja foi renomeada pelo .reset_index)\n",
    "vendas_por_produto.columns = [\"Produto\", \"Total_de_vendas\"]"
   ]
  },
  {
   "cell_type": "markdown",
   "id": "ba7fa11a-2643-4496-8ed6-6e4d46e8065c",
   "metadata": {},
   "source": [
    "### Total de vendas por produto"
   ]
  },
  {
   "cell_type": "code",
   "execution_count": 46,
   "id": "4c49949f-3029-4f36-8e11-517f5e8f5d0a",
   "metadata": {},
   "outputs": [
    {
     "name": "stdout",
     "output_type": "stream",
     "text": [
      "           Produto  Total_de_vendas\n",
      "0            Arroz          2406.54\n",
      "1          Bermuda          3875.65\n",
      "2         Cachecol          8417.90\n",
      "3             Café          2158.91\n",
      "4            Calça          5631.97\n",
      "5           Camisa          4904.21\n",
      "6       Carregador         16396.59\n",
      "7           Casaco           194.14\n",
      "8          Celular         17910.37\n",
      "9        Chocolate           760.98\n",
      "10           Cinto          1694.84\n",
      "11          Farofa          1941.39\n",
      "12          Feijão          2470.12\n",
      "13  Fone de ouvido         28743.80\n",
      "14           Fruta          3283.93\n",
      "15         Legumes          1797.03\n",
      "16           Leite           908.18\n",
      "17           Luvas         16488.44\n",
      "18           Meias          6627.04\n",
      "19       Microfone         14269.56\n",
      "20         Monitor          5828.30\n",
      "21           Mouse         22188.15\n",
      "22             Pão           817.45\n",
      "23          Queijo           982.13\n",
      "24        Smart TV         25270.40\n",
      "25         Teclado         50098.87\n",
      "26           Tênis          7760.36\n",
      "27         Vestido         11235.33\n"
     ]
    }
   ],
   "source": [
    "#Ordenar por ordem alfabética\n",
    "vendas_por_produto = vendas_por_produto.sort_values(by=\"Produto\", ascending=True)\n",
    "print(vendas_por_produto)"
   ]
  },
  {
   "cell_type": "markdown",
   "id": "b956e96f-9094-4fbc-ad95-cc870b536901",
   "metadata": {},
   "source": [
    "### Produto com o maior número de vendas totais"
   ]
  },
  {
   "cell_type": "code",
   "execution_count": 49,
   "id": "312c0db2-5799-4327-acd3-35db9578b6eb",
   "metadata": {},
   "outputs": [
    {
     "name": "stdout",
     "output_type": "stream",
     "text": [
      "O Teclado foi o que obteve o maior número de vendas totais com: 50098.87\n"
     ]
    }
   ],
   "source": [
    "#Ordenar por maior numero de vendas\n",
    "vendas_por_produto = vendas_por_produto.sort_values(by=\"Total_de_vendas\", ascending=False)\n",
    "\n",
    "#Seprar a primeira linha\n",
    "produto_maior_venda_total = vendas_por_produto.iloc[0]\n",
    "\n",
    "print(f'O {produto_maior_venda_total[\"Produto\"]} foi o que obteve o maior número de vendas totais com: {produto_maior_venda_total[\"Total_de_vendas\"]:.2f}')"
   ]
  },
  {
   "cell_type": "markdown",
   "id": "ed1a3826-1eef-4037-b305-3d871e7539b4",
   "metadata": {},
   "source": [
    "## Análise exploratoria"
   ]
  },
  {
   "cell_type": "markdown",
   "id": "9ab5bd78-f9b2-42f6-8b3c-6b7f7c8c0655",
   "metadata": {},
   "source": [
    "### Cálculo e ajustes"
   ]
  },
  {
   "cell_type": "code",
   "execution_count": 78,
   "id": "e2870cee-741f-4ff8-9201-7541d6a3c4c1",
   "metadata": {},
   "outputs": [],
   "source": [
    "#Criar uma coluna para armazenar os meses\n",
    "df[\"Total_Mes\"] = df[\"Data\"].dt.to_period(\"M\")\n",
    "\n",
    "#Calcular total de vendas por mês\n",
    "df[\"Total_de_Vendas\"] = (df[\"Quantidade\"] * df[\"Preço\"])\n",
    "vendas_mensais = df.groupby(\"Total_Mes\")[\"Total_de_Vendas\"].sum().reset_index()\n",
    "\n",
    "#Conversão \"Total_Mes\" para datetime (melhor para manipular e evitar problemas no matplotlib)\n",
    "vendas_mensais[\"Total_Mes\"] = vendas_mensais[\"Total_Mes\"].dt.to_timestamp()"
   ]
  },
  {
   "cell_type": "markdown",
   "id": "ea22e665-c3a2-4237-b611-6322ffb345e1",
   "metadata": {},
   "source": [
    "### Gráfico de tendência de vendas ao longo do tempo"
   ]
  },
  {
   "cell_type": "code",
   "execution_count": 92,
   "id": "0198cc00-aab0-4acc-8180-029a89923bc8",
   "metadata": {},
   "outputs": [
    {
     "data": {
      "image/png": "[encoded data removed]",
      "text/plain": [
       "<Figure size 1200x600 with 1 Axes>"
      ]
     },
     "metadata": {},
     "output_type": "display_data"
    }
   ],
   "source": [
    "#Criação do grafico de linha\n",
    "plt.figure(figsize=(12, 6)) #altura x comprimento\n",
    "plt.plot(vendas_mensais[\"Total_Mes\"], vendas_mensais[\"Total_de_Vendas\"], marker=\"o\", linestyle=\"-\") #plota o grafico x e y, marcador circular e estilo de linha\n",
    "plt.title(\"Tendência de Vendas Mensais\", fontsize=18) #titulo do grafico\n",
    "plt.xlabel(\"Mês\", fontsize=12) #rotulo x\n",
    "plt.ylabel(\"Total de Vendas\", fontsize=12) #rotulo y\n",
    "plt.grid(True) #ativa a grade\n",
    "meses = vendas_mensais[\"Total_Mes\"].dt.strftime(\"%b-%Y\") #Define formato do eixo x como \"Jan-2023\"\n",
    "plt.xticks(vendas_mensais[\"Total_Mes\"], meses, rotation=45) #rotaciona os rotulos do eixo x\n",
    "plt.tight_layout() #Alinha os elementos do grafico (evita sobreposição)\n",
    "plt.show() #saida"
   ]
  },
  {
   "cell_type": "markdown",
   "id": "258318c1-7f57-45d2-9237-6cab1e14b20b",
   "metadata": {},
   "source": [
    "### Padrões e Insights"
   ]
  },
  {
   "cell_type": "markdown",
   "id": "73453a5d-05ba-482c-925a-2e7f3774abe6",
   "metadata": {},
   "source": [
    "- O mês de **março** apresentou um pico significativo nas vendas, sugerindo a influência/resultado de promoções sazonais ou eventos.\n",
    "- Por outro lado, os meses de **fevereiro** e **maio** registraram os menores valores de total de vendas, indicando baixa demanda ou falta de campanha promocionais nesses períodos\n",
    "- Após o pico em março, as vendas caíram, mas mantiveram um padrão relativamente estável e constante até outubro\n",
    "- O segundo semestre com **154.463,52** mostrou um total de vendas superior ao primeiro semestre com **132.499,06**, podemos supor que houve um aumento de demanda ou um melhor retorno sobre o investimento em campanhas publicitárias (ROAS) \n",
    "- O melhor trimestre de vendas foi o 3º com **102.345,11** e o pior o 1º com **65.234,78**, portanto os dados do 3º trimestre podem ser usados como parâmetro como práticas de suces\n",
    "  so que podem ser replicadas (Verificar quais produtos e categorias tiveram maior contribuição no valor neste período). E na mesma forma, analisar quais fatores levaram o 1º trimestre ter um desempenho inferior"
   ]
  },
  {
   "cell_type": "markdown",
   "id": "ec26691c-a5b4-4fb8-8fe8-19dcc23942e5",
   "metadata": {},
   "source": [
    "## Comentários"
   ]
  },
  {
   "cell_type": "markdown",
   "id": "63e13a9e-4ea6-4fc2-8800-13a2cb641309",
   "metadata": {
    "jp-MarkdownHeadingCollapsed": true
   },
   "source": [
    "- A escolha das bibliotecas foi simples, separei em etapas a primeira parte e ao meu ver iria precisar utilizar pandas, numpy e matplot\n",
    "- A definição de parâmetros veio na resolução de 3 problemas:\n",
    "\t- Como posso relacionar os produtos com suas categorias?\n",
    "\t- É irreal um pão custar 500 reais kkkkkk\n",
    "\t- Fica mais organizado visualmente para mim se na tabela \"categoria\" vir antes de \"produto\"\n",
    "- Então o jeito que encontrei foi de separar os parâmetros na geração do dataset pois pra mim pareceu mais intuitivo e fácil de fazer. Pois poderia colocar intervalos de preço mais \"realistas\" assim como as categorias. Fora que facilitou muito em criar \"categoria\" primeiro e depois \"produto\", pois na criação de \"produto\" eu consulto os valores de \"categoria\"\n",
    "- Encontrei problemas em fazer isso com a coluna \"Data\" então apenas fiz de forma aleatória na própria geração do dataset pois foi a resposta mais fácil e rápida, tentei procurar uma melhor para separar mas pareciam meio desnecessárias utilizar\n",
    "- Funções foi criado apenas para separar e deixar mais legível \n",
    "- A geração do dataset tomou um tempo, pois no processo fui entender melhor algumas funções que até então não conhecia dentro da random generator do numpy. O que facilitou e encurtou muito o meu código original. Antes criava tudo dentro de data mas como fui precisar separar os parâmetros, acabou ficando separado (o que visualmente pra mim ficou melhor também)\n",
    "- A limpeza de dados foi tranquila, acabei gerando um bom dataset, as funções do pandas e numpy ajudaram muito neste aspecto.\n",
    "- Mesmo assim coloquei algumas verificações para ter certeza que estava correto e no fim a única coisa que precisei transformar foi o tipo de \"Data\" pois estava como \"object\" então mudei para \"datetime64\" pois é melhor para futuras manipulações e consultas.\n",
    "- O dataset foi salvo e então utilizei ele ainda para fazer a análise, foi bem tranquilo o que foi pedido, mas demorei em achar uma forma de manipular melhor as informações pedidas como queria.\n",
    "- No final, fiquei satisfeito com o que desenvolvi nesta pois é possível gerar vários outros datasets e utilizá-los para fazer as análises com parametros diferentes e ainda assim vai calcular e gerar o gráfico corretamente, não é um código \"travado\" que só funciona com 1 dataset específico.\n",
    "\n",
    "\n",
    "Caso queiram saber, o passo a passo que criei para ordenar melhora minha atividade foi este:\n",
    "- [ ] Crie um script para simular um dataset de vendas:\n",
    "    - [ ]  Com pelo menos 50 registros\n",
    "    - [ ]  Contendo as colunas: ID, Data, Produto, Categoria, Quantidade, Preço\n",
    "    - [ ]  O período dos dados deve ser de 01/01/2023 a 31/12/2023.\n",
    "- [ ] Realize a limpeza dos dados, incluindo:\n",
    "\t- [ ] Tratamento de valores faltantes\n",
    "\t- [ ] Remoção de duplicatas\n",
    "\t- [ ] Conversão de tipos de dados, se necessário\n",
    "- [ ] Salve o dataset limpo em um arquivo **data_clean.csv**\n",
    "- [ ] Utilizando o dataset limpo, realize as seguintes análises:\n",
    "\t- [ ] Calcule o total de vendas (Quantidade * Preço) por produto.\n",
    "\t- [ ] Identifique o produto com o maior número de vendas totais.\n",
    "- [ ] **Salve seu código e nomeie adequadamente.**"
   ]
  }
 ],
 "metadata": {
  "kernelspec": {
   "display_name": "Python 3 (ipykernel)",
   "language": "python",
   "name": "python3"
  },
  "language_info": {
   "codemirror_mode": {
    "name": "ipython",
    "version": 3
   },
   "file_extension": ".py",
   "mimetype": "text/x-python",
   "name": "python",
   "nbconvert_exporter": "python",
   "pygments_lexer": "ipython3",
   "version": "3.11.7"
  }
 },
 "nbformat": 4,
 "nbformat_minor": 5
}
